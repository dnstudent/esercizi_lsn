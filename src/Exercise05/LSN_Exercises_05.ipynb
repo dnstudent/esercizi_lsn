{
 "cells": [
  {
   "cell_type": "markdown",
   "metadata": {},
   "source": [
    "# <span style=\"color:green\"> Numerical Simulation Laboratory (NSL) </span>\n",
    "## <span style=\"color:blue\">  Numerical exercises 5</span> - <span style=\"color:red\"> Only for master students</span>\n"
   ]
  },
  {
   "cell_type": "markdown",
   "metadata": {
    "tags": []
   },
   "source": [
    "In quantum physics a **wave function**, $\\Psi$, is a mathematical description of the state of a quantum system. The wave function is a complex-valued probability amplitude, and the probabilities for the possible results of measurements made on the system can be derived from it.\n",
    "\n",
    "For now on, let's consider the simple case of a non-relativistic single particle, without spin, in three spatial dimensions. The state of such a particle is completely described by its wave function, $\\Psi(\\vec{r},t)$, where $\\vec{r}$ is position and $t$ is time.\n",
    "\n",
    "For one spinless particle, if the wave function is interpreted as a probability amplitude, the square modulus of the wave function, $|\\Psi(\\vec{r},t)|^2$, is interpreted as the probability density that the particle is at $\\vec{r}$ at time $t$. Once we have a probability density, we can use Monte Carlo ...\n",
    "\n",
    "#### Hydrogen atom\n",
    "The wave functions of the eigenstates of an electron in a Hydrogen atom (this is the only atom for which the Schroedinger equation has been solved exactly) are expressed in terms of spherical harmonics and generalized Laguerre polynomials. InputIt is convenient to use spherical coordinates, and the wave function can be separated into functions of each coordinate:\n",
    "\n",
    "$$\n",
    "\\Psi_{n,l,m}(r,\\theta,\\phi)=\n",
    "\\sqrt{\\left(\\frac{2}{na_0}\\right)^3 \\frac{(n-l-1)!}{2n[(n+l)!]}}\n",
    "e^{-r/na_0}\\left(\\frac{2r}{na_0}\\right)^l L_{n-l-1}^{2l+1}\\left(\\frac{2r}{na_0}\\right)\n",
    "Y_l^m(\\theta,\\phi)\n",
    "$$\n",
    "\n",
    "where $a_0=4\\pi\\epsilon_0\\hbar^2/m_e e^2=0.0529$ nm is the Bohr radius, $L_{n-l-1}^{2l+1}$ are the generalized Laguerre polynomials of degree $n-l-1$, $n=1,2,...$ is the principal quantum number, $l=0,1, ..., n-1$ the azimuthal quantum number, $m=-l, -l+1, ..., l-1, l$ the magnetic quantum number.\n",
    "\n",
    "For example, the ground state wave function is:\n",
    "$$\n",
    "\\Psi_{1,0,0}(r,\\theta,\\phi)=\n",
    "\\frac{a_0^{-3/2}}{\\sqrt{\\pi}} e^{-r/a_0} \n",
    "$$\n",
    "whereas one of the three $2p$ excited state is:\n",
    "$$\n",
    "\\Psi_{2,1,0}(r,\\theta,\\phi)=\n",
    "\\frac{a_0^{-5/2}}{8}\\sqrt{\\frac{2}{\\pi}} r e^{-r/2a_0} \\cos(\\theta)\n",
    "$$\n",
    "<span style=\"color:blue\">Expectation values for the radius turns out to be exactly:\n",
    "$$\n",
    "\\left\\langle r \\right\\rangle_{\\Psi_{1,0,0}} = \\frac{3}{2}a_0\n",
    "\\quad\n",
    "\\left\\langle r \\right\\rangle_{\\Psi_{2,1,0}} = 5 a_0\n",
    "$$\n",
    "</span>\n",
    "\n",
    "\n",
    "### Exercise 05.1\n",
    "\n",
    "\n",
    "Use the Metropolis algorithm to sample $|\\Psi_{1,0,0}(x,y,z)|^2$ and $|\\Psi_{2,1,0}(x,y,z)|^2$ **in Cartesian coordinates** using, initially, an uniform transition probability $T(\\vec{x}|\\vec{y})$. Use the sampled positions to estimate $\\left\\langle r \\right\\rangle_{\\Psi_{1,0,0}}$ and $\\left\\langle r \\right\\rangle_{\\Psi_{2,1,0}}$. As usual, use data blocking and give an estimate of the statistical uncertainties."
   ]
  },
  {
   "cell_type": "markdown",
   "metadata": {},
   "source": [
    "<span style=\"color:red\">Show a picture of your estimations of $\\left\\langle r \\right\\rangle_{\\Psi_{1,0,0}}$ and $\\left\\langle r \\right\\rangle_{\\Psi_{2,1,0}}$</span> and their uncertainties with a large number of *throws* $M$ (e.g. $M\\ge 10^6$) as a function of the number of blocks, $N$</font>.\n",
    "\n",
    "- Use Bohr radius units, $a_0$ for distances\n",
    "- Choose the step of the uniform transition probability $T(\\vec{x}|\\vec{y})$ in order to obtain 50% of acceptance in both cases\n",
    "- Choose a reasonable starting point in the 3D space and correlation your sampling before to start measuring the radius. What do you observe when you start very far from the origin?\n",
    "- How large should be the number of Monte Carlo Metropolis steps in each m_block?\n",
    "- <span style=\"color:red\">If you use a multivariate normal transition probability $T(\\vec{x}|\\vec{y})$, i.e. a Gaussian for each coordinate, your results for $\\left\\langle r \\right\\rangle_{\\Psi_{1,0,0}}$ and $\\left\\langle r \\right\\rangle_{\\Psi_{2,1,0}}$ are equivalent?</span>"
   ]
  },
  {
   "cell_type": "markdown",
   "metadata": {},
   "source": [
    "You can use a Python code similar to the following one to observe how the sampled points distribute into the 3D space:"
   ]
  },
  {
   "cell_type": "code",
   "execution_count": 1,
   "metadata": {},
   "outputs": [
    {
     "data": {
      "text/plain": [
       "<Figure size 640x480 with 0 Axes>"
      ]
     },
     "metadata": {},
     "output_type": "display_data"
    }
   ],
   "source": [
    "import matplotlib\n",
    "import matplotlib.pyplot as plt\n",
    "import numpy as np\n",
    "from mpl_toolkits.mplot3d import Axes3D\n",
    "\n",
    "M=1000\n",
    "X=np.random.normal(0.0,1.0,M)\n",
    "Y=np.random.normal(0.0,1.0,M)\n",
    "Z=np.random.normal(0.0,1.0,M)\n",
    "\n",
    "fig = plt.figure()\n",
    "ax = Axes3D(fig)\n",
    "ax.scatter(X, Y, Z, c=Z, marker='.')\n",
    "ax.set_xlabel('x')\n",
    "ax.set_ylabel('y')\n",
    "ax.set_zlabel('z')\n",
    "ax.view_init(10, 30)\n",
    "plt.show()"
   ]
  },
  {
   "cell_type": "code",
   "execution_count": null,
   "metadata": {},
   "outputs": [],
   "source": []
  }
 ],
 "metadata": {
  "kernelspec": {
   "display_name": "Python 3 (ipykernel)",
   "language": "python",
   "name": "python3"
  },
  "language_info": {
   "codemirror_mode": {
    "name": "ipython",
    "version": 3
   },
   "file_extension": ".py",
   "mimetype": "text/x-python",
   "name": "python",
   "nbconvert_exporter": "python",
   "pygments_lexer": "ipython3",
   "version": "3.10.8"
  },
  "vscode": {
   "interpreter": {
    "hash": "d41ff7761825777edbd3c08c66c0b12c05041a215fb197f8f07c8e80cb68118c"
   }
  }
 },
 "nbformat": 4,
 "nbformat_minor": 4
}
